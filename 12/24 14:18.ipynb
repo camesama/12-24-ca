{
  "nbformat": 4,
  "nbformat_minor": 0,
  "metadata": {
    "colab": {
      "provenance": [],
      "authorship_tag": "ABX9TyO/nHJUmi5ZP9F+Lj7rQokr",
      "include_colab_link": true
    },
    "kernelspec": {
      "name": "python3",
      "display_name": "Python 3"
    },
    "language_info": {
      "name": "python"
    }
  },
  "cells": [
    {
      "cell_type": "markdown",
      "metadata": {
        "id": "view-in-github",
        "colab_type": "text"
      },
      "source": [
        "<a href=\"https://colab.research.google.com/github/camesama/12-24-ca/blob/main/12/24%2014%3A18.ipynb\" target=\"_parent\"><img src=\"https://colab.research.google.com/assets/colab-badge.svg\" alt=\"Open In Colab\"/></a>"
      ]
    },
    {
      "cell_type": "code",
      "execution_count": 1,
      "metadata": {
        "colab": {
          "base_uri": "https://localhost:8080/"
        },
        "id": "RVCkfFyka8MZ",
        "outputId": "55f03295-d552-45d8-c7bf-4f9e893d6eb8"
      },
      "outputs": [
        {
          "output_type": "stream",
          "name": "stdout",
          "text": [
            "72\n",
            "176\n",
            "23.243801652892564\n"
          ]
        }
      ],
      "source": [
        "# bmi = weight(kg) / height(m)**2\n",
        "weight = 72\n",
        "height = 176\n",
        "print(weight)\n",
        "print(height)\n",
        "print(weight / (height / 100) ** 2)"
      ]
    },
    {
      "cell_type": "markdown",
      "source": [],
      "metadata": {
        "id": "heNRO_Zil7ad"
      }
    },
    {
      "cell_type": "code",
      "source": [
        "# bmi = weight(kg) / height(m)**2\n",
        "weight = 72\n",
        "height = 176\n",
        "bmi = (weight / (height / 100) ** 2)\n",
        "print (\"你的體重是:\" + str(weight))\n",
        "print (\"你的身高是:\" + str(height))\n",
        "print (\"你的BMI是:\" + str(bmi))\n",
        "\n",
        "if bmi > 25:\n",
        "    print(\"過重\")\n",
        "    print(\"多動動\")\n",
        "else:\n",
        "    print(\"正常\")"
      ],
      "metadata": {
        "colab": {
          "base_uri": "https://localhost:8080/"
        },
        "id": "0VKRhdXKTbBH",
        "outputId": "fff51de3-7d96-4a24-c132-9cbd50bc8661"
      },
      "execution_count": 2,
      "outputs": [
        {
          "output_type": "stream",
          "name": "stdout",
          "text": [
            "你的體重是:72\n",
            "你的身高是:176\n",
            "你的BMI是:23.243801652892564\n",
            "正常\n"
          ]
        }
      ]
    },
    {
      "cell_type": "code",
      "source": [
        "# bmi = weight(kg) / height(m)**2\n",
        "weight = float(input(\"輸入體重:\"))\n",
        "height = float(input(\"輸入身高:\"))\n",
        "bmi = (weight / (height / 100) ** 2)\n",
        "print (\"你的體重是:\" + str(weight))\n",
        "print (\"你的身高是:\" + str(height))\n",
        "print (\"你的BMI是:\" + str(bmi))\n",
        "\n",
        "if bmi > 25:\n",
        "    print(\"過重\")\n",
        "    print(\"多動動\")\n",
        "else:\n",
        "    print(\"正常\")"
      ],
      "metadata": {
        "colab": {
          "base_uri": "https://localhost:8080/"
        },
        "id": "oxCTOmB5T2Pi",
        "outputId": "6c1628a7-5cd0-4202-db3c-8d5e403ab084"
      },
      "execution_count": 4,
      "outputs": [
        {
          "output_type": "stream",
          "name": "stdout",
          "text": [
            "輸入體重:70\n",
            "輸入身高:180\n",
            "你的體重是:70.0\n",
            "你的身高是:180.0\n",
            "你的BMI是:21.604938271604937\n",
            "正常\n"
          ]
        }
      ]
    }
  ]
}